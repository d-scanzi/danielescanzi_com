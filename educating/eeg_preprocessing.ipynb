{
 "cells": [
  {
   "cell_type": "raw",
   "id": "a226abdf-15f7-4966-81b6-c2c9979c8f52",
   "metadata": {},
   "source": [
    "---\n",
    "title: \"EEG Preporcessing Insights\"\n",
    "---"
   ]
  },
  {
   "cell_type": "markdown",
   "id": "041bb5b7",
   "metadata": {},
   "source": [
    "# EEG PREPROCESSING - Insights\n",
    "\n",
    "*This page will be a work-in progress project. I will update when as the opportunity comes*\n",
    "\n",
    "The goal of today's lab meeting is to gain insight into the most common EEG data cleaning (preprocessing) steps. I'm going to use MNE (Python) for a couple of reasons. Firstly, we will introduce an alternative to MATLAB in the hope that we can all move away from it for our studies. Secondly, because the point of today is not to learn the \"how-to\" preprocess data (how to make a script, what functions to use, how to code, etc...). I believe that is the easiest part, and there are many tutorials around. Instead, we will try to gain a deeper understanding of what we are doing to the data every time we perform specific cleaning steps. I believe this is a more interesting and useful approach, especially in an hour. \n",
    "\n",
    "We will start by loading the EEG data. This is a pilot recording I have conducted on myself while performing Simon's task."
   ]
  },
  {
   "cell_type": "raw",
   "id": "ec8bd8c1-a6a0-4631-b78f-20c5261c64e2",
   "metadata": {
    "tags": []
   },
   "source": [
    "```{python}\n",
    "## Modules, directories and import data\n",
    "import os\n",
    "from ipywidgets import *\n",
    "import numpy as np\n",
    "import matplotlib.pyplot as plt\n",
    "from scipy import signal\n",
    "\n",
    "print('hey')\n",
    "```"
   ]
  },
  {
   "cell_type": "markdown",
   "id": "0e1ab362",
   "metadata": {},
   "source": [
    "## Looking at the data\n",
    "The first thing you should do when starting to work with EEG data is to look at it. This is useful to get accustomed to how clean EEG data looks like, how common artefacts appear (e.g. blinks, muscle noise) and, in general, to ensure that your recording is as you expect it."
   ]
  },
  {
   "cell_type": "markdown",
   "id": "1c7b29b0",
   "metadata": {},
   "source": [
    "`raw_data.plot()`"
   ]
  },
  {
   "cell_type": "markdown",
   "id": "db21870c",
   "metadata": {},
   "source": [
    "![](img/data_scroll.png)"
   ]
  },
  {
   "cell_type": "markdown",
   "id": "e3e55bc7",
   "metadata": {},
   "source": [
    "## Downsampling\n",
    "\n",
    "If the EEG data was collected with a high sample rate (commonly 1000 Hz), then you can decide to downsample the data to a lower sampling rate, like 500 Hz or 250 Hz. To my understanding, the primary reason for downsampling is to reduce the size of the data and speed up the analyses. This was especially important back in the days when computers did not have much memory and computing power. In my opinion, nowadays, this is not really necessary as most computers are able to handle large datasets. Moreover, by downsampling, we remove some information from the data. Unless downsampling is necessary (e.g. it would take months for your PC to preprocess your data), then I would not do it. However, some online discussions suggest that downsampling might be useful to obtain a better ICA decomposition (I don't think this has been formally tested). \n",
    "\n",
    "At its core, downsampling is an easy step that simply requires selecting one point for every N. How many N points you skip is defined by the sampling rate you want to obtain. Let's check this."
   ]
  },
  {
   "cell_type": "code",
   "execution_count": null,
   "id": "72d4d9ae",
   "metadata": {},
   "outputs": [],
   "source": [
    "# Recorded signal\n",
    "original_sampling_rate = 100\n",
    "signal_duration_s      = 2\n",
    "samples_vector         = np.arange(0, signal_duration_s, 1/original_sampling_rate)\n",
    "sine_signal = 2*np.sin(2*np.pi*2*samples_vector)\n",
    "\n",
    "# Downsample\n",
    "new_sampling_rate = 50\n",
    "\n",
    "def g(srate=500):\n",
    "    number_of_points_to_retain = int((len(sine_signal)/original_sampling_rate) * srate)\n",
    "    step_downsampled_signal    = int(len(sine_signal) / number_of_points_to_retain)\n",
    "    downsampled_signal         = sine_signal[np.arange(0, len(sine_signal), step_downsampled_signal)]\n",
    "    downsampled_time           = samples_vector[np.arange(0, len(sine_signal), step_downsampled_signal)]\n",
    "    \n",
    "    print(f\"Retaining: {number_of_points_to_retain} out of {len(sine_signal)}\")\n",
    "    \n",
    "    plt.plot(samples_vector, sine_signal, '-k', linewidth=8, alpha=0.3)\n",
    "    plt.scatter(downsampled_time, downsampled_signal, c='r', s=6, alpha=0.6)\n",
    "    plt.plot(downsampled_time, downsampled_signal, '-r', linewidth=1)\n",
    "    plt.rcParams['figure.figsize'] = [10, 5]\n",
    "    plt.show()\n",
    "    \n",
    "\n",
    "    \n",
    "interactive(g, srate=widgets.IntSlider(min=5, max=100, step=1, value=50))"
   ]
  },
  {
   "cell_type": "markdown",
   "id": "9b712a2e",
   "metadata": {},
   "source": [
    "As you can see, the lower the sampling rate, the lower the resolution of our signal. Although here we see distortions only at very low values, we need to think about how a lower resolution could affect a complex signal as the EEG data. For instance, by downsampling, we are likely to remove information represented as high-frequency oscillatory activity.\n",
    "\n",
    "***NOTE: this is a simplified representation of downsampling. In reality, filters are applied to the data to avoid distortions (aliasing). In other words, do not use this code on your data! Consider what you have observed and what we said about frequencies being distorted, and you can understand why filtering is important here***\n",
    "\n",
    "Now let's downsample the data."
   ]
  },
  {
   "cell_type": "markdown",
   "id": "fb14c4f0",
   "metadata": {},
   "source": [
    "`raw_data.resample(sfreq=250)`"
   ]
  },
  {
   "cell_type": "markdown",
   "id": "7e8446ea",
   "metadata": {},
   "source": [
    "## Filtering\n",
    "\n",
    "This is an essential step, but I think it's probably one of the most technical and complex topics in signal processing. Filtering aims to remove parts of the data that are likely to contain artefacts or not to represent brain activity. For the sake of simplicity, we will only discuss *high-pass filters* and *low-pass filters*without stopping on any specific type of filter (eg. Finite Impulse Response vs Infinite Impulse Response). What we will introduce, though, are some of the parameters you will definitely encounter and will be relevant to your data. \n",
    "\n",
    "In general, a filter can be described as a mathematical procedure that allows the removal of specific frequencies from the data. It is important to understand this point. When a filter is applied, you modify the frequency information of your signal. Although downsampling partly affects the frequency domain too, with filters we do not trim the data. In other words, the time resolution of your data is left untouched.\n",
    "\n",
    "Let's see."
   ]
  },
  {
   "cell_type": "code",
   "execution_count": null,
   "id": "46207301",
   "metadata": {},
   "outputs": [],
   "source": [
    "# Create signal as sum of sines\n",
    "sampling_rate     = 1000\n",
    "signal_duration_s = 2\n",
    "times             = np.arange(0, signal_duration_s, 1/sampling_rate)\n",
    "\n",
    "signal_frequencies = np.arange(10, 25, 10)\n",
    "signal_sines       = np.sin(2*np.pi*signal_frequencies[0]*times)\n",
    "for frequency in signal_frequencies[1:]:\n",
    "    signal_sines = np.vstack((signal_sines, np.sin(2*np.pi*frequency*times)))\n",
    "\n",
    "composite_signal = np.sum(signal_sines, axis=0)\n",
    "\n",
    "# Define Butterworth lowpass filter\n",
    "polinomial_numerator, polinomial_denominator = signal.butter(10, 15, fs=sampling_rate)\n",
    "filtered_half_signal = signal.filtfilt(polinomial_numerator, polinomial_denominator, composite_signal[int(len(composite_signal)/2):])\n",
    "\n",
    "fig, ax = plt.subplots()\n",
    "ax.plot(times, composite_signal, 'k', linewidth=2, alpha=0.5)\n",
    "ax.plot(times, np.append(composite_signal[0:int(len(composite_signal)/2)], filtered_half_signal), 'r')\n",
    "ax.vlines(times[int(len(times)/2)], min(composite_signal), max(composite_signal), colors='k', linestyles='dashed', linewidth=3);"
   ]
  },
  {
   "cell_type": "markdown",
   "id": "c1d43ba7",
   "metadata": {},
   "source": [
    "Here we filtered only the second half of the signal. Let's see it's frequency decompostion"
   ]
  },
  {
   "cell_type": "code",
   "execution_count": null,
   "id": "9fb458c1",
   "metadata": {},
   "outputs": [],
   "source": [
    "# Replace second half of signal with filtered version\n",
    "composite_signal[int(len(composite_signal)/2):] = filtered_half_signal\n",
    "\n",
    "\n",
    "fft_window = signal.windows.blackman(500)\n",
    "fft_hop    = int(len(fft_window)/20)\n",
    "SFT = signal.ShortTimeFFT(fft_window, hop=fft_hop, fs=sampling_rate, scale_to='magnitude', mfft=2**11)\n",
    "Sx = SFT.stft(composite_signal)  # perform the STFT\n",
    "\n",
    "fig,ax = plt.subplots()\n",
    "ax.imshow(abs(Sx), origin='lower', aspect='auto', cmap='viridis', extent=SFT.extent(len(composite_signal)))\n",
    "ax.hlines((10, 20), 0, (2, 1), color='gray', linewidth=3, alpha=0.5)\n",
    "ax.vlines(1, 0, 30, colors='r', linestyles='dashed', linewidth=3)\n",
    "ax.set_ylim((0, 30))\n",
    "ax.set_xlim((0, 2));\n"
   ]
  },
  {
   "cell_type": "markdown",
   "id": "804843a5",
   "metadata": {},
   "source": [
    "We can see here that the 20 Hz component of our signal disappears after the filter is applied. \n",
    "\n",
    "Cool, now to the technical part. As I said, filters are not so straightforward, and when you decide which one to apply to your data, you should pause and think about it. To begin understanding why this is the case, let's look at how a commonly used filter (Butterworth) attenuates frequencies."
   ]
  },
  {
   "cell_type": "code",
   "execution_count": null,
   "id": "867fd759",
   "metadata": {},
   "outputs": [],
   "source": [
    "cutoff_frequency = 30\n",
    "def filter_order_plot(filter_order=4):\n",
    "    b,a = signal.butter(filter_order, cutoff_frequency, 'low', analog=True)\n",
    "    w,h = signal.freqs(b, a)\n",
    "    t, y = signal.impulse((b,a))\n",
    "    \n",
    "    fig, axs = plt.subplots(2, 1)\n",
    "    \n",
    "    axs[0].plot(w, 20 * np.log10(abs(h)), c='r', label=f\"Order: {filter_order}\")\n",
    "    axs[0].vlines(30, -50, 5, colors='k')\n",
    "    axs[0].set_ylabel(\"Amplitude (dB)\")\n",
    "    axs[0].set_xlabel(\"Frequency (Hz)\")\n",
    "    axs[0].set_xlim((0, 100))\n",
    "    axs[0].set_ylim((-50, 5))\n",
    "    \n",
    "    axs[1].plot(t, y, c=\"orange\")\n",
    "    axs[1].set_xlabel(\"Time (s)\")\n",
    "    axs[1].set_ylabel(\"Amplitude (AU)\")\n",
    "\n",
    "    plt.tight_layout()\n",
    "\n",
    "    \n",
    "interactive(filter_order_plot, filter_order=widgets.IntSlider(min=1, max=20, step=1, value=4))"
   ]
  },
  {
   "cell_type": "markdown",
   "id": "90475003",
   "metadata": {},
   "source": [
    "To understand filters and the information you might find online or published in some papers, we need to define a few terms. Note that these terms should be reported in a publication to ensure the correct replicability of your analyses - though not many people do this.\n",
    "\n",
    "* Cutoff Frequency: frequency threshold from/to where (ideally) the filter starts acting\n",
    "* Passband: Frequency region (ideally) unaffected by the filter\n",
    "* Stopband: Frequency region (ideally) suppressed by the filter\n",
    "* Transition band: Frequency region where the filter attenuates the amplitude without complete suppression\n",
    "* Lowpass filter: a filter that reduces/suppresses high frequencies (beyond the defined cutoff + passband)\n",
    "* Highpass filter: a filter that reduces/suppresses low frequencies (before the cutoff + passband)\n",
    "\n",
    "NOTE: if you use EEGLAB default filter function `pop_eegfiltnew`, you will need to provide, at least, the *passband* limits and not the cutoff frequency!\n",
    "\n",
    "![](img\\eeglab_filt.png)"
   ]
  },
  {
   "cell_type": "code",
   "execution_count": null,
   "id": "b9348cd6",
   "metadata": {},
   "outputs": [],
   "source": [
    "# Explore filter lenght\n",
    "sample_rate      = 1000\n",
    "cutoff_frequency = 50\n",
    "trans_bandwidth  = 10\n",
    "\n",
    "def filter_components(filter_lenght_s=0.2):\n",
    "    filter_order        = int(round((sample_rate * filter_lenght_s))) + 1\n",
    "    kaiser_coefficients = signal.firwin(filter_order, 50, fs=1000, window=(\"blackman\"))\n",
    "    kaiser_w, kaiser_h  = signal.freqz(kaiser_coefficients, fs=1000)\n",
    "    fig, ax = plt.subplots()\n",
    "    ax.plot(kaiser_w, 20 * np.log10(abs(kaiser_h)))\n",
    "    ax.fill_between((cutoff_frequency, cutoff_frequency+trans_bandwidth), 5, -150, alpha=0.35, color='red')\n",
    "    ax.set_xlim((0, 175))\n",
    "    ax.set_ylim((-150, 5))\n",
    "\n",
    "interactive(filter_components, filter_lenght_s=widgets.FloatSlider(min=0, max=1.5, step=0.1, value=0.2, description=\"FL(s)\"))"
   ]
  },
  {
   "cell_type": "markdown",
   "id": "823102df",
   "metadata": {},
   "source": [
    "As you can see here, by increasing the filter length, we make the filter less steep, and we push the ringing outside the transition band. The downside is that we are now keeping more frequencies that are beyond the cutoff. By modifying the filter length, as well as the type of filter and its specific parameters, we can modify how long the transition band is, how steep the filter is and how many of those ripples you can see above we get.\n",
    "\n",
    "Talking about ripples. You need to be aware of them as they can introduce artefacts in your data (the data itself can become \"ripply\"). Usually, if they appear in the stopband, you should be mostly fine, as their effects will affect a dimension of the data you supposedly are not interested in (otherwise, why would you filter out frequencies you want to analyse). However, you need to pay attention to filters that introduce ripples in the passband. Below, you can see that the *rectangular* filter induces some oscillations before the transition band (<50 Hz). Because these ripples affect frequencies that will be contained in your filtered data, they will alter the data itself.  "
   ]
  },
  {
   "cell_type": "code",
   "execution_count": null,
   "id": "d3143048",
   "metadata": {},
   "outputs": [],
   "source": [
    "filter_types  = [\"hamming\", \"kaiser\", \"blackman\", \"rectangular\"]\n",
    "filter_lenght = 80\n",
    "fig, ax = plt.subplots()\n",
    "for filter_type in filter_types:\n",
    "    if filter_type != \"kaiser\":\n",
    "        fir_coefficients = signal.firwin(filter_lenght, 50, fs=1000, window=(filter_type))\n",
    "    else:\n",
    "        fir_coefficients = signal.firwin(filter_lenght, 50, fs=1000, window=(filter_type, 8))\n",
    "\n",
    "    \n",
    "    fir_w, fir_h = signal.freqz(fir_coefficients, fs=1000)\n",
    "    ax.plot(fir_w, 20 * np.log10(abs(fir_h)), label=filter_type)\n",
    "    ax.fill_between((50, 50+10), 5, -200, alpha=0.1, color='red')\n",
    "    ax.set_xlim((0, 200))\n",
    "    ax.legend()\n"
   ]
  },
  {
   "cell_type": "markdown",
   "id": "66f0a413",
   "metadata": {},
   "source": [
    "Usually, you won't need to create filters from scratch. Most EEG packages (MNE, EEGLAB, Brainstorm, etc...) provide functions with (usually) sensible default values. However, always check your filters and their outputs!\n",
    "\n",
    "`raw_filtered = raw_data.copy().filter(l_freq=0.5, h_freq=None)`\n",
    "`raw_filtered = raw_filtered.filter(h_freq=30, l_freq=None)`"
   ]
  },
  {
   "cell_type": "markdown",
   "id": "c152287c",
   "metadata": {},
   "source": [
    "## Find bad channels\n",
    "\n",
    "Lots can happen during an EEG session and one of the most common events is that one or more electrodes do not record the signal properly. The causes for this can vary, incorectly setting up the electode cap, the participant touching the electordes, electrical noise, or some electrodes dying. Independently from the cause, we want to capture these electrode and remove them from the data. If we do not do so, we run the risk to retain or even introduce noise and artefact in the data we will analyse (see Rereferencing to average section). \n",
    "\n",
    "So, how do we go about finiding bad channels? I don;t have a set answer for this. There are multiple procedures and the choice on how you want to go about this step is yours. The simplest thing you can do is to look at the data manually. If you open the data scroll (or plot the channels), you might be able to pick up channels that have unrealistic high or low voltages throughout the recording or for part of it.\n",
    "\n",
    "![](img\\data_scroll_noise_ch.PNG)\n",
    "\n",
    "Here, for instance, you can see that one channel oscillates all over the place. That doesn't look like brain at all and we might want to flag this channel to remove it. \n",
    "If you don't want to look at every channel, then you need to decide on one or more rules to flag noisy channels. EEGLAB has a pervasive set of algorithms to achieve this (way too many for my taste). Their default now is to use a function called `clean_rawdata`, which would remove a channel if:\n",
    "\n",
    "1. It is flat for longer than a threshold\n",
    "2. It is not correlated with other electrodes\n",
    "3. It contains excessive high-frequency noise\n",
    "\n",
    "If you use EEGLAB and decide to use this algorithm, then I would suggest you run it a few times on the same dataset and ensure that the removed channels are always the same (or almost always). In my experience, sometimes the results are not consistent, especially when you have a short recording (short in terms of samples) or a low number of electrodes.\n",
    "\n",
    "***NOTE: I haven't seen this detail being reported much, but there is one important element (to me) that you should consider when removing channels: their location. One thing is to remove a few channels here and there; another thing is to remove a cluster of adjacent channels. If bad channels are close to each other, there might be a systematic issue that affects that cluster specifically. Moreover, it would be dangerous to proceed with their reconstruction through interpolation (next section).***"
   ]
  },
  {
   "cell_type": "markdown",
   "id": "b459fa9b",
   "metadata": {},
   "source": [
    "## Interpolation\n",
    "\n",
    "Once you have removed bad channels, what should you do? If you are a purist, you might want to leave these channels out. Hopefully you do not need them for your analyses. Otherwise, you could reconstruct them using the information in the other channels. This step is called ***interpolation***, and it is based on the idea that EEG electrodes contain data that is correlated. That is, two nearby channels partly pick up the same signal. Thus, if we remove one channel, we can use the other to reconstruct what the signal in the removed channel should look like. \n",
    "\n",
    "For EEG data, this is usually done through a ***spherical interpolation***, a procedure that projects the channels to the surface of a sphere and then uses the information contained in the retained channels to reconstruct the removed one. "
   ]
  }
 ],
 "metadata": {
  "celltoolbar": "Tags",
  "kernelspec": {
   "display_name": "Python [conda env:mne]",
   "language": "python",
   "name": "conda-env-mne-py"
  },
  "language_info": {
   "codemirror_mode": {
    "name": "ipython",
    "version": 3
   },
   "file_extension": ".py",
   "mimetype": "text/x-python",
   "name": "python",
   "nbconvert_exporter": "python",
   "pygments_lexer": "ipython3",
   "version": "3.12.2"
  }
 },
 "nbformat": 4,
 "nbformat_minor": 5
}
