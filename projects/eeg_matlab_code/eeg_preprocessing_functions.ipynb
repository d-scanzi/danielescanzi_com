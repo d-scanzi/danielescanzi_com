{
  "cells": [
    {
      "cell_type": "raw",
      "metadata": {},
      "source": [
        "---\n",
        "title: \"EEG preprocessing functions\"\n",
        "---"
      ],
      "id": "0573144e"
    },
    {
      "cell_type": "markdown",
      "metadata": {},
      "source": [
        "A collection of functions and code-snippets useful for EEG preprocessing with EEGLAB (Matlab). \n",
        "\n",
        "## Counting triggers\n",
        "\n",
        "This function takes an EEGLAB *EEG* structure and returns a cell array containing the number of triggers (aka events) divided for each trigger type. I use it as a sanity check to ensure that my data does not contain missing triggers and that the participant completed the correct number of trials/blocks.\n"
      ],
      "id": "e293d127"
    },
    {
      "cell_type": "code",
      "metadata": {},
      "source": [
        "function nTrig = count_triggers(EEG)\n",
        "    % nTRIG - Compute the number of times each trigger occur in an EEGLAB \n",
        "    % EEG event structure. Useful to verify that the number of trials run \n",
        "    % is correct. Might be useful to spot missing triggers\n",
        "    %\n",
        "    % In:\n",
        "    %    - EEG: EEGLAB EEG structure\n",
        "    % Out:\n",
        "    %    - cell array containing trigger name and trigger number\n",
        "    %\n",
        "    % Author:\n",
        "    %    Daniele Scanzi\n",
        "\n",
        "    % Check that event structure is in EEG structure\n",
        "    if ~isfield(EEG, \"event\")\n",
        "        error(\"Cannot find event structure. Is EEG an EEGLAB structure?\")\n",
        "    end\n",
        "    \n",
        "    % Find unique events\n",
        "    nTrig = unique({EEG.event.type})';\n",
        "    if isempty(nTrig)\n",
        "        error(\"Cannot find any events in the event structure. Do you need to load them?\")\n",
        "    end\n",
        "\n",
        "    % Create cell array storing name of event and their number\n",
        "    for iEvent = 1:size(nTrig,1)\n",
        "        nTrig{iEvent, 2} = sum(strcmp({EEG.event.type}, nTrig{iEvent, 1}));\n",
        "    end\n",
        "\n",
        "end"
      ],
      "id": "d7d4d83b",
      "execution_count": null,
      "outputs": []
    }
  ],
  "metadata": {
    "kernelspec": {
      "display_name": "Python 3",
      "language": "python",
      "name": "python3"
    }
  },
  "nbformat": 4,
  "nbformat_minor": 5
}